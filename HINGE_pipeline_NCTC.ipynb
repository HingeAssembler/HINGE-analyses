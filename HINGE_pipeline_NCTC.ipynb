{
 "cells": [
  {
   "cell_type": "markdown",
   "metadata": {},
   "source": [
    "# Set variables and Import libraries"
   ]
  },
  {
   "cell_type": "markdown",
   "metadata": {},
   "source": [
    "Please provide the absolute path to your HINGE installation"
   ]
  },
  {
   "cell_type": "code",
   "execution_count": 1,
   "metadata": {
    "collapsed": true
   },
   "outputs": [],
   "source": [
    "path_to_hinge = '~/HINGE-analyses/HINGE/'"
   ]
  },
  {
   "cell_type": "markdown",
   "metadata": {},
   "source": [
    "The required packages are listed in requirements.txt.\n",
    "The following imports verify that these requirements are properly installed"
   ]
  },
  {
   "cell_type": "code",
   "execution_count": 6,
   "metadata": {
    "collapsed": false
   },
   "outputs": [],
   "source": [
    "import os\n",
    "import cython\n",
    "import networkx as nx\n",
    "import numpy as np\n",
    "import matplotlib.pyplot as plt \n",
    "import random \n",
    "import forceatlas2 \n",
    "import ujson\n",
    "import Bio\n",
    "import colormap\n",
    "import easydev"
   ]
  },
  {
   "cell_type": "code",
   "execution_count": 3,
   "metadata": {
    "collapsed": false
   },
   "outputs": [
    {
     "data": {
      "text/plain": [
       "0"
      ]
     },
     "execution_count": 3,
     "metadata": {},
     "output_type": "execute_result"
    }
   ],
   "source": [
    "os.system('mkdir -p data')"
   ]
  },
  {
   "cell_type": "markdown",
   "metadata": {},
   "source": [
    "# Choose NCTC datasets"
   ]
  },
  {
   "cell_type": "markdown",
   "metadata": {},
   "source": [
    "The NCTC datasets to be downloaded and assembled are in NCTC_names.txt"
   ]
  },
  {
   "cell_type": "code",
   "execution_count": 4,
   "metadata": {
    "collapsed": false
   },
   "outputs": [
    {
     "name": "stdout",
     "output_type": "stream",
     "text": [
      "NCTC9657\r\n",
      "NCTC9964\r\n",
      "NCTC11022\r\n"
     ]
    }
   ],
   "source": [
    "!head NCTC_names.txt"
   ]
  },
  {
   "cell_type": "markdown",
   "metadata": {
    "collapsed": false
   },
   "source": [
    "# Download the relevant files\n",
    "\n",
    "We use [aspera](http://downloads.asperasoft.com/en/downloads/8?list) to download. Once installed on a Linux machine, the default path to the aspera license is `~/.aspera/connect/etc/asperaweb_id_dsa.openssh`.\n",
    "Other ways to download the relevant files from the accession numbers in the paper can be found [here](https://www.ebi.ac.uk/ena/browse/read-download). "
   ]
  },
  {
   "cell_type": "code",
   "execution_count": null,
   "metadata": {
    "collapsed": true
   },
   "outputs": [],
   "source": [
    "path_to_aspera_licence = '~/.aspera/connect/etc/asperaweb_id_dsa.openssh'"
   ]
  },
  {
   "cell_type": "code",
   "execution_count": 5,
   "metadata": {
    "collapsed": false
   },
   "outputs": [
    {
     "data": {
      "text/plain": [
       "0"
      ]
     },
     "execution_count": 5,
     "metadata": {},
     "output_type": "execute_result"
    }
   ],
   "source": [
    "download_cmd = 'python download_wrapper.py '+ path_to_aspera_licence\n",
    "os.system(download_cmd)"
   ]
  },
  {
   "cell_type": "markdown",
   "metadata": {},
   "source": [
    "# Obtain the overlaps"
   ]
  },
  {
   "cell_type": "code",
   "execution_count": 7,
   "metadata": {
    "collapsed": false
   },
   "outputs": [
    {
     "data": {
      "text/plain": [
       "0"
      ]
     },
     "execution_count": 7,
     "metadata": {},
     "output_type": "execute_result"
    }
   ],
   "source": [
    "overlap_cmd = 'python overlap_wrapper.py'\n",
    "os.system(overlap_cmd)"
   ]
  },
  {
   "cell_type": "markdown",
   "metadata": {},
   "source": [
    "# Download NCTC assemblies and extract fastas"
   ]
  },
  {
   "cell_type": "code",
   "execution_count": 23,
   "metadata": {
    "collapsed": false
   },
   "outputs": [
    {
     "data": {
      "text/plain": [
       "0"
      ]
     },
     "execution_count": 23,
     "metadata": {},
     "output_type": "execute_result"
    }
   ],
   "source": [
    "assembly_download_cmd = 'python download_assemblies.py'\n",
    "assembly_extract_cmd = 'python get_hgap_fastas.py'\n",
    "os.system(assembly_download_cmd)\n",
    "os.system(assembly_extract_cmd)"
   ]
  },
  {
   "cell_type": "code",
   "execution_count": 29,
   "metadata": {
    "collapsed": false
   },
   "outputs": [
    {
     "data": {
      "text/plain": [
       "0"
      ]
     },
     "execution_count": 29,
     "metadata": {},
     "output_type": "execute_result"
    }
   ],
   "source": [
    "map_cmd = 'python map_wrapper.py '+path_to_hinge\n",
    "os.system(map_cmd)"
   ]
  },
  {
   "cell_type": "markdown",
   "metadata": {},
   "source": [
    "# Run Layout and overlay NCTC assembly colours"
   ]
  },
  {
   "cell_type": "code",
   "execution_count": 31,
   "metadata": {
    "collapsed": false
   },
   "outputs": [
    {
     "data": {
      "text/plain": [
       "0"
      ]
     },
     "execution_count": 31,
     "metadata": {},
     "output_type": "execute_result"
    }
   ],
   "source": [
    "layout_cmd = 'python pipeline_layout_wrapper.py '+path_to_hinge\n",
    "os.system(layout_cmd)"
   ]
  },
  {
   "cell_type": "markdown",
   "metadata": {},
   "source": [
    "# Generate sequence consensus"
   ]
  },
  {
   "cell_type": "code",
   "execution_count": 37,
   "metadata": {
    "collapsed": false
   },
   "outputs": [
    {
     "data": {
      "text/plain": [
       "0"
      ]
     },
     "execution_count": 37,
     "metadata": {},
     "output_type": "execute_result"
    }
   ],
   "source": [
    "consensus_cmd = 'python pipeline_consensus_wrapper.py '+path_to_hinge\n",
    "os.system(consensus_cmd)"
   ]
  },
  {
   "cell_type": "markdown",
   "metadata": {},
   "source": [
    "# Draw NCTC9657"
   ]
  },
  {
   "cell_type": "markdown",
   "metadata": {},
   "source": [
    "First we use ForceAtlas2 to generate a visually interpretable graph. This step may take ~10 minutes to run."
   ]
  },
  {
   "cell_type": "code",
   "execution_count": 7,
   "metadata": {
    "collapsed": false
   },
   "outputs": [],
   "source": [
    "H9657 = nx.read_graphml('data/NCTC9657/NCTC9657A.G2c.graphml')\n",
    "G9657 = H9657.to_undirected()\n",
    "pos = { i : (random.random(), random.random()) for i in G9657.nodes()} \n",
    "l9657 = forceatlas2.forceatlas2_networkx_layout(G9657, pos, niter=10000) "
   ]
  },
  {
   "cell_type": "markdown",
   "metadata": {},
   "source": [
    "We then use the information from the alignment to the hgap (NCTC pipeline) contigs to color the nodes."
   ]
  },
  {
   "cell_type": "code",
   "execution_count": 8,
   "metadata": {
    "collapsed": false
   },
   "outputs": [],
   "source": [
    "%matplotlib inline\n",
    "\n",
    "max_chr = 1\n",
    "for x in H9657.nodes():\n",
    "    try:\n",
    "        max_chr = max(max_chr,H9657.node[x.lstrip('B')]['chr'])\n",
    "    except:\n",
    "        pass\n",
    "chr_lengths = [0]*max_chr\n",
    "for x in H9657.nodes():\n",
    "        try:\n",
    "            chr_num = H9657.node[x.lstrip('B')]['chr']\n",
    "            chr_lengths[chr_num-1] = max(chr_lengths[chr_num-1],H9657.node[x.lstrip('B')]['aln_end'])\n",
    "        except:\n",
    "            pass\n",
    "\n",
    "color_map9657 = {}\n",
    "for x in H9657.nodes():\n",
    "    try:\n",
    "        chr_num = H9657.node[x.lstrip('B')]['chr']\n",
    "        color_map9657[x] = sum(chr_lengths[0:chr_num-1]) + (chr_num-1)*600000 + H9657.node[x.lstrip('B')]['aln_end']\n",
    "        \n",
    "    except:\n",
    "        color_map9657[x] = 5"
   ]
  },
  {
   "cell_type": "code",
   "execution_count": 9,
   "metadata": {
    "collapsed": false
   },
   "outputs": [
    {
     "data": {
      "image/png": "[encoded data removed]",
      "text/plain": [
       "<matplotlib.figure.Figure at 0x7f38ed4ee890>"
      ]
     },
     "metadata": {},
     "output_type": "display_data"
    }
   ],
   "source": [
    "color_max = max(color_map9657.values())\n",
    "values9657 = [color_max - color_map9657.get(node, 1) for node in G9657.nodes()]\n",
    "nx.draw_networkx(G9657, l9657, with_labels=False, node_color=values9657,cmap = 'hsv',vmin = 0,vmax = color_max, node_size=8,linewidths=0.1) \n",
    "plt.show()"
   ]
  },
  {
   "cell_type": "markdown",
   "metadata": {},
   "source": [
    "# Draw NCTC9964"
   ]
  },
  {
   "cell_type": "code",
   "execution_count": 10,
   "metadata": {
    "collapsed": false
   },
   "outputs": [],
   "source": [
    "H9964 = nx.read_graphml('data/NCTC9964/NCTC9964A.G2c.graphml')\n",
    "G9964 = H9964.to_undirected()\n",
    "pos = { i : (random.random(), random.random()) for i in G9964.nodes()} \n",
    "l9964 = forceatlas2.forceatlas2_networkx_layout(G9964, pos, niter=10000) "
   ]
  },
  {
   "cell_type": "code",
   "execution_count": 11,
   "metadata": {
    "collapsed": false
   },
   "outputs": [],
   "source": [
    "max_chr = 1\n",
    "for x in H9964.nodes():\n",
    "    try:\n",
    "        max_chr = max(max_chr,H9964.node[x.lstrip('B')]['chr'])\n",
    "    except:\n",
    "        pass\n",
    "chr_lengths = [0]*max_chr\n",
    "for x in H9964.nodes():\n",
    "        try:\n",
    "            chr_num = H9964.node[x.lstrip('B')]['chr']\n",
    "            chr_lengths[chr_num-1] = max(chr_lengths[chr_num-1],H9964.node[x.lstrip('B')]['aln_end'])\n",
    "        except:\n",
    "            pass\n",
    "\n",
    "color_map9964 = {}\n",
    "for x in H9964.nodes():\n",
    "    try:\n",
    "        chr_num = H9964.node[x.lstrip('B')]['chr']\n",
    "        color_map9964[x] = sum(chr_lengths[0:chr_num-1]) + (chr_num-1)*600000 + H9964.node[x.lstrip('B')]['aln_end']\n",
    "        \n",
    "    except:\n",
    "        color_map9964[x] = 5 "
   ]
  },
  {
   "cell_type": "code",
   "execution_count": 12,
   "metadata": {
    "collapsed": false
   },
   "outputs": [
    {
     "data": {
      "image/png": "[encoded data removed]",
      "text/plain": [
       "<matplotlib.figure.Figure at 0x7f38ed7bd990>"
      ]
     },
     "metadata": {},
     "output_type": "display_data"
    }
   ],
   "source": [
    "color_max = max(color_map9964.values())\n",
    "values9964 = [color_max - color_map9964.get(node, 1) for node in G9964.nodes()]\n",
    "nx.draw_networkx(G9964, l9964, with_labels=False, node_color=values9964,cmap = 'hsv',vmin = 0,vmax = color_max, node_size=8,linewidths=0.1) \n",
    "plt.show()"
   ]
  },
  {
   "cell_type": "markdown",
   "metadata": {},
   "source": [
    "# Draw NCTC11022"
   ]
  },
  {
   "cell_type": "code",
   "execution_count": 13,
   "metadata": {
    "collapsed": true
   },
   "outputs": [],
   "source": [
    "H11022 = nx.read_graphml('data/NCTC11022/NCTC11022A.G2c.graphml')\n",
    "G11022 = H11022.to_undirected()\n",
    "pos = { i : (random.random(), random.random()) for i in G11022.nodes()} \n",
    "l11022 = forceatlas2.forceatlas2_networkx_layout(G11022, pos, niter=10000) "
   ]
  },
  {
   "cell_type": "code",
   "execution_count": 14,
   "metadata": {
    "collapsed": false
   },
   "outputs": [],
   "source": [
    "max_chr = 1\n",
    "for x in H11022.nodes():\n",
    "    try:\n",
    "        max_chr = max(max_chr,H11022.node[x.lstrip('B')]['chr'])\n",
    "    except:\n",
    "        pass\n",
    "chr_lengths = [0]*max_chr\n",
    "for x in H11022.nodes():\n",
    "        try:\n",
    "            chr_num = H11022.node[x.lstrip('B')]['chr']\n",
    "            chr_lengths[chr_num-1] = max(chr_lengths[chr_num-1],H11022.node[x.lstrip('B')]['aln_end'])\n",
    "        except:\n",
    "            pass\n",
    "\n",
    "color_map11022 = {}\n",
    "for x in H11022.nodes():\n",
    "    try:\n",
    "        chr_num = H11022.node[x.lstrip('B')]['chr']\n",
    "        color_map11022[x] = sum(chr_lengths[0:chr_num-1]) + (chr_num-1)*600000 + H11022.node[x.lstrip('B')]['aln_end']\n",
    "        \n",
    "    except:\n",
    "        color_map11022[x] = 5 "
   ]
  },
  {
   "cell_type": "code",
   "execution_count": 15,
   "metadata": {
    "collapsed": false
   },
   "outputs": [
    {
     "data": {
      "image/png": "[encoded data removed]",
      "text/plain": [
       "<matplotlib.figure.Figure at 0x7f38ed513ed0>"
      ]
     },
     "metadata": {},
     "output_type": "display_data"
    }
   ],
   "source": [
    "color_max = max(color_map11022.values())\n",
    "values11022 = [color_max - color_map11022.get(node, 1) for node in G11022.nodes()]\n",
    "nx.draw_networkx(G11022, l11022, with_labels=False, node_color=values11022,cmap = 'hsv',vmin = 0,vmax = color_max, node_size=8,linewidths=0.1) \n",
    "plt.show()"
   ]
  }
 ],
 "metadata": {
  "celltoolbar": "Raw Cell Format",
  "kernelspec": {
   "display_name": "Python 2",
   "language": "python",
   "name": "python2"
  },
  "language_info": {
   "codemirror_mode": {
    "name": "ipython",
    "version": 2
   },
   "file_extension": ".py",
   "mimetype": "text/x-python",
   "name": "python",
   "nbconvert_exporter": "python",
   "pygments_lexer": "ipython2",
   "version": "2.7.6"
  }
 },
 "nbformat": 4,
 "nbformat_minor": 0
}
