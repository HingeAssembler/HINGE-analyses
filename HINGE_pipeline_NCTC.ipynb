{
 "cells": [
  {
   "cell_type": "markdown",
   "metadata": {},
   "source": [
    "# Set variables and Import libraries"
   ]
  },
  {
   "cell_type": "markdown",
   "metadata": {},
   "source": [
    "Please provide the absolute path to your HINGE installation"
   ]
  },
  {
   "cell_type": "code",
   "execution_count": 1,
   "metadata": {
    "collapsed": true
   },
   "outputs": [],
   "source": [
    "path_to_hinge = '~/HINGE-analyses/HINGE/'"
   ]
  },
  {
   "cell_type": "markdown",
   "metadata": {},
   "source": [
    "The required packages are listed in requirements.txt.\n",
    "The following imports verify that these requirements are properly installed"
   ]
  },
  {
   "cell_type": "code",
   "execution_count": 6,
   "metadata": {
    "collapsed": false
   },
   "outputs": [],
   "source": [
    "import os\n",
    "import cython\n",
    "import networkx as nx\n",
    "import numpy as np\n",
    "import matplotlib.pyplot as plt \n",
    "import random \n",
    "import forceatlas2 \n",
    "import ujson\n",
    "import Bio\n",
    "import colormap\n",
    "import easydev"
   ]
  },
  {
   "cell_type": "code",
   "execution_count": 3,
   "metadata": {
    "collapsed": false
   },
   "outputs": [
    {
     "data": {
      "text/plain": [
       "0"
      ]
     },
     "execution_count": 3,
     "metadata": {},
     "output_type": "execute_result"
    }
   ],
   "source": [
    "os.system('mkdir -p data')"
   ]
  },
  {
   "cell_type": "markdown",
   "metadata": {},
   "source": [
    "# Choose NCTC datasets"
   ]
  },
  {
   "cell_type": "markdown",
   "metadata": {},
   "source": [
    "The NCTC datasets to be downloaded and assembled are in NCTC_names.txt"
   ]
  },
  {
   "cell_type": "code",
   "execution_count": 4,
   "metadata": {
    "collapsed": false
   },
   "outputs": [
    {
     "name": "stdout",
     "output_type": "stream",
     "text": [
      "NCTC9657\r\n",
      "NCTC9964\r\n",
      "NCTC11022\r\n"
     ]
    }
   ],
   "source": [
    "!head NCTC_names.txt"
   ]
  },
  {
   "cell_type": "markdown",
   "metadata": {
    "collapsed": false
   },
   "source": [
    "# Download the relevant files\n",
    "\n",
    "We use [aspera](http://downloads.asperasoft.com/en/downloads/8?list) to download. Once installed on a Linux machine, the default path to the aspera license is `~/.aspera/connect/etc/asperaweb_id_dsa.openssh`.\n",
    "Other ways to download the relevant files from the accession numbers in the paper can be found [here](https://www.ebi.ac.uk/ena/browse/read-download). "
   ]
  },
  {
   "cell_type": "code",
   "execution_count": null,
   "metadata": {
    "collapsed": true
   },
   "outputs": [],
   "source": [
    "path_to_aspera_licence = '~/.aspera/connect/etc/asperaweb_id_dsa.openssh'"
   ]
  },
  {
   "cell_type": "code",
   "execution_count": 5,
   "metadata": {
    "collapsed": false
   },
   "outputs": [
    {
     "data": {
      "text/plain": [
       "0"
      ]
     },
     "execution_count": 5,
     "metadata": {},
     "output_type": "execute_result"
    }
   ],
   "source": [
    "download_cmd = 'python download_wrapper.py '+ path_to_aspera_licence\n",
    "os.system(download_cmd)"
   ]
  },
  {
   "cell_type": "markdown",
   "metadata": {},
   "source": [
    "# Obtain the overlaps"
   ]
  },
  {
   "cell_type": "code",
   "execution_count": 7,
   "metadata": {
    "collapsed": false
   },
   "outputs": [
    {
     "data": {
      "text/plain": [
       "0"
      ]
     },
     "execution_count": 7,
     "metadata": {},
     "output_type": "execute_result"
    }
   ],
   "source": [
    "overlap_cmd = 'python overlap_wrapper.py'\n",
    "os.system(overlap_cmd)"
   ]
  },
  {
   "cell_type": "markdown",
   "metadata": {},
   "source": [
    "# Download NCTC assemblies and extract fastas"
   ]
  },
  {
   "cell_type": "code",
   "execution_count": 23,
   "metadata": {
    "collapsed": false
   },
   "outputs": [
    {
     "data": {
      "text/plain": [
       "0"
      ]
     },
     "execution_count": 23,
     "metadata": {},
     "output_type": "execute_result"
    }
   ],
   "source": [
    "assembly_download_cmd = 'python download_assemblies.py'\n",
    "assembly_extract_cmd = 'python get_hgap_fastas.py'\n",
    "os.system(assembly_download_cmd)\n",
    "os.system(assembly_extract_cmd)"
   ]
  },
  {
   "cell_type": "code",
   "execution_count": 29,
   "metadata": {
    "collapsed": false
   },
   "outputs": [
    {
     "data": {
      "text/plain": [
       "0"
      ]
     },
     "execution_count": 29,
     "metadata": {},
     "output_type": "execute_result"
    }
   ],
   "source": [
    "map_cmd = 'python map_wrapper.py '+path_to_hinge\n",
    "os.system(map_cmd)"
   ]
  },
  {
   "cell_type": "markdown",
   "metadata": {},
   "source": [
    "# Run Layout and overlay NCTC assembly colours"
   ]
  },
  {
   "cell_type": "code",
   "execution_count": 31,
   "metadata": {
    "collapsed": false
   },
   "outputs": [
    {
     "data": {
      "text/plain": [
       "0"
      ]
     },
     "execution_count": 31,
     "metadata": {},
     "output_type": "execute_result"
    }
   ],
   "source": [
    "layout_cmd = 'python pipeline_layout_wrapper.py '+path_to_hinge\n",
    "os.system(layout_cmd)"
   ]
  },
  {
   "cell_type": "markdown",
   "metadata": {},
   "source": [
    "# Generate sequence consensus"
   ]
  },
  {
   "cell_type": "code",
   "execution_count": 37,
   "metadata": {
    "collapsed": false
   },
   "outputs": [
    {
     "data": {
      "text/plain": [
       "0"
      ]
     },
     "execution_count": 37,
     "metadata": {},
     "output_type": "execute_result"
    }
   ],
   "source": [
    "consensus_cmd = 'python pipeline_consensus_wrapper.py '+path_to_hinge\n",
    "os.system(consensus_cmd)"
   ]
  },
  {
   "cell_type": "markdown",
   "metadata": {},
   "source": [
    "# Draw NCTC9657"
   ]
  },
  {
   "cell_type": "markdown",
   "metadata": {},
   "source": [
    "First we use ForceAtlas2 to generate a visually interpretable graph. This step may take ~10 minutes to run."
   ]
  },
  {
   "cell_type": "code",
   "execution_count": 42,
   "metadata": {
    "collapsed": false
   },
   "outputs": [
    {
     "ename": "KeyboardInterrupt",
     "evalue": "",
     "output_type": "error",
     "traceback": [
      "\u001b[0;31m---------------------------------------------------------------------------\u001b[0m",
      "\u001b[0;31mKeyboardInterrupt\u001b[0m                         Traceback (most recent call last)",
      "\u001b[0;32m<ipython-input-42-b4c6c5b522e2>\u001b[0m in \u001b[0;36m<module>\u001b[0;34m()\u001b[0m\n\u001b[1;32m      2\u001b[0m \u001b[0mG9657\u001b[0m \u001b[0;34m=\u001b[0m \u001b[0mH9657\u001b[0m\u001b[0;34m.\u001b[0m\u001b[0mto_undirected\u001b[0m\u001b[0;34m(\u001b[0m\u001b[0;34m)\u001b[0m\u001b[0;34m\u001b[0m\u001b[0m\n\u001b[1;32m      3\u001b[0m \u001b[0mpos\u001b[0m \u001b[0;34m=\u001b[0m \u001b[0;34m{\u001b[0m \u001b[0mi\u001b[0m \u001b[0;34m:\u001b[0m \u001b[0;34m(\u001b[0m\u001b[0mrandom\u001b[0m\u001b[0;34m.\u001b[0m\u001b[0mrandom\u001b[0m\u001b[0;34m(\u001b[0m\u001b[0;34m)\u001b[0m\u001b[0;34m,\u001b[0m \u001b[0mrandom\u001b[0m\u001b[0;34m.\u001b[0m\u001b[0mrandom\u001b[0m\u001b[0;34m(\u001b[0m\u001b[0;34m)\u001b[0m\u001b[0;34m)\u001b[0m \u001b[0;32mfor\u001b[0m \u001b[0mi\u001b[0m \u001b[0;32min\u001b[0m \u001b[0mG9657\u001b[0m\u001b[0;34m.\u001b[0m\u001b[0mnodes\u001b[0m\u001b[0;34m(\u001b[0m\u001b[0;34m)\u001b[0m\u001b[0;34m}\u001b[0m\u001b[0;34m\u001b[0m\u001b[0m\n\u001b[0;32m----> 4\u001b[0;31m \u001b[0ml9657\u001b[0m \u001b[0;34m=\u001b[0m \u001b[0mforceatlas2\u001b[0m\u001b[0;34m.\u001b[0m\u001b[0mforceatlas2_networkx_layout\u001b[0m\u001b[0;34m(\u001b[0m\u001b[0mG9657\u001b[0m\u001b[0;34m,\u001b[0m \u001b[0mpos\u001b[0m\u001b[0;34m,\u001b[0m \u001b[0mniter\u001b[0m\u001b[0;34m=\u001b[0m\u001b[0;36m10000\u001b[0m\u001b[0;34m)\u001b[0m\u001b[0;34m\u001b[0m\u001b[0m\n\u001b[0m",
      "\u001b[0;32m/usr/local/lib/python2.7/dist-packages/forceatlas2/forceatlas2.pyc\u001b[0m in \u001b[0;36mforceatlas2_networkx_layout\u001b[0;34m(G, pos, **kwargs)\u001b[0m\n\u001b[1;32m    220\u001b[0m     \u001b[0;32melse\u001b[0m\u001b[0;34m:\u001b[0m\u001b[0;34m\u001b[0m\u001b[0m\n\u001b[1;32m    221\u001b[0m         \u001b[0mposlist\u001b[0m \u001b[0;34m=\u001b[0m \u001b[0mnumpy\u001b[0m\u001b[0;34m.\u001b[0m\u001b[0masarray\u001b[0m\u001b[0;34m(\u001b[0m\u001b[0;34m[\u001b[0m\u001b[0mpos\u001b[0m\u001b[0;34m[\u001b[0m\u001b[0mi\u001b[0m\u001b[0;34m]\u001b[0m \u001b[0;32mfor\u001b[0m \u001b[0mi\u001b[0m \u001b[0;32min\u001b[0m \u001b[0mG\u001b[0m\u001b[0;34m.\u001b[0m\u001b[0mnodes\u001b[0m\u001b[0;34m(\u001b[0m\u001b[0;34m)\u001b[0m\u001b[0;34m]\u001b[0m\u001b[0;34m)\u001b[0m\u001b[0;34m\u001b[0m\u001b[0m\n\u001b[0;32m--> 222\u001b[0;31m         \u001b[0ml\u001b[0m \u001b[0;34m=\u001b[0m \u001b[0mforceatlas2\u001b[0m\u001b[0;34m(\u001b[0m\u001b[0mM\u001b[0m\u001b[0;34m,\u001b[0m \u001b[0mpos\u001b[0m\u001b[0;34m=\u001b[0m\u001b[0mposlist\u001b[0m\u001b[0;34m,\u001b[0m \u001b[0;34m**\u001b[0m\u001b[0mkwargs\u001b[0m\u001b[0;34m)\u001b[0m\u001b[0;34m\u001b[0m\u001b[0m\n\u001b[0m\u001b[1;32m    223\u001b[0m     \u001b[0;32mreturn\u001b[0m \u001b[0mdict\u001b[0m\u001b[0;34m(\u001b[0m\u001b[0mzip\u001b[0m\u001b[0;34m(\u001b[0m\u001b[0mG\u001b[0m\u001b[0;34m.\u001b[0m\u001b[0mnodes\u001b[0m\u001b[0;34m(\u001b[0m\u001b[0;34m)\u001b[0m\u001b[0;34m,\u001b[0m \u001b[0ml\u001b[0m\u001b[0;34m)\u001b[0m\u001b[0;34m)\u001b[0m\u001b[0;34m\u001b[0m\u001b[0m\n\u001b[1;32m    224\u001b[0m \u001b[0;34m\u001b[0m\u001b[0m\n",
      "\u001b[0;32m/usr/local/lib/python2.7/dist-packages/forceatlas2/forceatlas2.pyc\u001b[0m in \u001b[0;36mforceatlas2\u001b[0;34m(G, pos, niter, outboundAttractionDistribution, linLogMode, adjustSizes, edgeWeightInfluence, jitterTolerance, barnesHutOptimize, barnesHutTheta, scalingRatio, strongGravityMode, gravity)\u001b[0m\n\u001b[1;32m    140\u001b[0m         \u001b[0;31m# optimization would change this from \"linRepulsion\" to another\u001b[0m\u001b[0;34m\u001b[0m\u001b[0;34m\u001b[0m\u001b[0m\n\u001b[1;32m    141\u001b[0m         \u001b[0;31m# version of the function.\u001b[0m\u001b[0;34m\u001b[0m\u001b[0;34m\u001b[0m\u001b[0m\n\u001b[0;32m--> 142\u001b[0;31m         \u001b[0mfa2util\u001b[0m\u001b[0;34m.\u001b[0m\u001b[0mapply_repulsion\u001b[0m\u001b[0;34m(\u001b[0m\u001b[0mnodes\u001b[0m\u001b[0;34m,\u001b[0m \u001b[0mscalingRatio\u001b[0m\u001b[0;34m)\u001b[0m\u001b[0;34m\u001b[0m\u001b[0m\n\u001b[0m\u001b[1;32m    143\u001b[0m         \u001b[0mfa2util\u001b[0m\u001b[0;34m.\u001b[0m\u001b[0mapply_gravity\u001b[0m\u001b[0;34m(\u001b[0m\u001b[0mnodes\u001b[0m\u001b[0;34m,\u001b[0m \u001b[0mgravity\u001b[0m\u001b[0;34m,\u001b[0m \u001b[0mscalingRatio\u001b[0m\u001b[0;34m,\u001b[0m \u001b[0museStrongGravity\u001b[0m\u001b[0;34m=\u001b[0m\u001b[0mstrongGravityMode\u001b[0m\u001b[0;34m)\u001b[0m\u001b[0;34m\u001b[0m\u001b[0m\n\u001b[1;32m    144\u001b[0m \u001b[0;34m\u001b[0m\u001b[0m\n",
      "\u001b[0;32m/usr/local/lib/python2.7/dist-packages/forceatlas2/fa2util.pyc\u001b[0m in \u001b[0;36mapply_repulsion\u001b[0;34m(nodes, coefficient)\u001b[0m\n\u001b[1;32m     99\u001b[0m     \u001b[0;32mfor\u001b[0m \u001b[0mi\u001b[0m \u001b[0;32min\u001b[0m \u001b[0mrange\u001b[0m\u001b[0;34m(\u001b[0m\u001b[0;36m0\u001b[0m\u001b[0;34m,\u001b[0m \u001b[0mlen\u001b[0m\u001b[0;34m(\u001b[0m\u001b[0mnodes\u001b[0m\u001b[0;34m)\u001b[0m\u001b[0;34m)\u001b[0m\u001b[0;34m:\u001b[0m\u001b[0;34m\u001b[0m\u001b[0m\n\u001b[1;32m    100\u001b[0m         \u001b[0;32mfor\u001b[0m \u001b[0mj\u001b[0m \u001b[0;32min\u001b[0m \u001b[0mrange\u001b[0m\u001b[0;34m(\u001b[0m\u001b[0;36m0\u001b[0m\u001b[0;34m,\u001b[0m \u001b[0mi\u001b[0m\u001b[0;34m)\u001b[0m\u001b[0;34m:\u001b[0m\u001b[0;34m\u001b[0m\u001b[0m\n\u001b[0;32m--> 101\u001b[0;31m             \u001b[0mlinRepulsion\u001b[0m\u001b[0;34m(\u001b[0m\u001b[0mnodes\u001b[0m\u001b[0;34m[\u001b[0m\u001b[0mi\u001b[0m\u001b[0;34m]\u001b[0m\u001b[0;34m,\u001b[0m \u001b[0mnodes\u001b[0m\u001b[0;34m[\u001b[0m\u001b[0mj\u001b[0m\u001b[0;34m]\u001b[0m\u001b[0;34m,\u001b[0m \u001b[0mcoefficient\u001b[0m\u001b[0;34m)\u001b[0m\u001b[0;34m\u001b[0m\u001b[0m\n\u001b[0m\u001b[1;32m    102\u001b[0m \u001b[0;34m\u001b[0m\u001b[0m\n\u001b[1;32m    103\u001b[0m \u001b[0;32mdef\u001b[0m \u001b[0mapply_gravity\u001b[0m\u001b[0;34m(\u001b[0m\u001b[0mnodes\u001b[0m\u001b[0;34m,\u001b[0m \u001b[0mgravity\u001b[0m\u001b[0;34m,\u001b[0m \u001b[0mscalingRatio\u001b[0m\u001b[0;34m,\u001b[0m \u001b[0museStrongGravity\u001b[0m\u001b[0;34m=\u001b[0m\u001b[0mFalse\u001b[0m\u001b[0;34m)\u001b[0m\u001b[0;34m:\u001b[0m\u001b[0;34m\u001b[0m\u001b[0m\n",
      "\u001b[0;32m/usr/local/lib/python2.7/dist-packages/forceatlas2/fa2util.pyc\u001b[0m in \u001b[0;36mlinRepulsion\u001b[0;34m(n1, n2, coefficient)\u001b[0m\n\u001b[1;32m     45\u001b[0m     \u001b[0mdistance2\u001b[0m \u001b[0;34m=\u001b[0m \u001b[0mxDist\u001b[0m\u001b[0;34m*\u001b[0m\u001b[0mxDist\u001b[0m \u001b[0;34m+\u001b[0m \u001b[0myDist\u001b[0m\u001b[0;34m*\u001b[0m\u001b[0myDist\u001b[0m \u001b[0;31m# Distance squared\u001b[0m\u001b[0;34m\u001b[0m\u001b[0m\n\u001b[1;32m     46\u001b[0m \u001b[0;34m\u001b[0m\u001b[0m\n\u001b[0;32m---> 47\u001b[0;31m     \u001b[0;32mif\u001b[0m \u001b[0mdistance2\u001b[0m \u001b[0;34m>\u001b[0m \u001b[0;36m0\u001b[0m\u001b[0;34m:\u001b[0m\u001b[0;34m\u001b[0m\u001b[0m\n\u001b[0m\u001b[1;32m     48\u001b[0m         \u001b[0mfactor\u001b[0m \u001b[0;34m=\u001b[0m \u001b[0mcoefficient\u001b[0m \u001b[0;34m*\u001b[0m \u001b[0mn1\u001b[0m\u001b[0;34m.\u001b[0m\u001b[0mmass\u001b[0m \u001b[0;34m*\u001b[0m \u001b[0mn2\u001b[0m\u001b[0;34m.\u001b[0m\u001b[0mmass\u001b[0m \u001b[0;34m/\u001b[0m \u001b[0mdistance2\u001b[0m\u001b[0;34m\u001b[0m\u001b[0m\n\u001b[1;32m     49\u001b[0m         \u001b[0mn1\u001b[0m\u001b[0;34m.\u001b[0m\u001b[0mdx\u001b[0m \u001b[0;34m+=\u001b[0m \u001b[0mxDist\u001b[0m \u001b[0;34m*\u001b[0m \u001b[0mfactor\u001b[0m\u001b[0;34m\u001b[0m\u001b[0m\n",
      "\u001b[0;31mKeyboardInterrupt\u001b[0m: "
     ]
    }
   ],
   "source": [
    "H9657 = nx.read_graphml('data/NCTC9657/NCTC9657A.G2c.graphml')\n",
    "G9657 = H9657.to_undirected()\n",
    "pos = { i : (random.random(), random.random()) for i in G9657.nodes()} \n",
    "l9657 = forceatlas2.forceatlas2_networkx_layout(G9657, pos, niter=10000) "
   ]
  },
  {
   "cell_type": "markdown",
   "metadata": {},
   "source": [
    "We then use the information from the alignment to the hgap (NCTC pipeline) contigs to color the nodes."
   ]
  },
  {
   "cell_type": "code",
   "execution_count": 207,
   "metadata": {
    "collapsed": false
   },
   "outputs": [],
   "source": [
    "%matplotlib inline\n",
    "\n",
    "max_chr = 1\n",
    "for x in H9657.nodes():\n",
    "    try:\n",
    "        max_chr = max(max_chr,H9657.node[x.lstrip('B')]['chr'])\n",
    "    except:\n",
    "        pass\n",
    "chr_lengths = [0]*max_chr\n",
    "for x in H9657.nodes():\n",
    "        try:\n",
    "            chr_num = H9657.node[x.lstrip('B')]['chr']\n",
    "            chr_lengths[chr_num-1] = max(chr_lengths[chr_num-1],H9657.node[x.lstrip('B')]['aln_end'])\n",
    "        except:\n",
    "            pass\n",
    "\n",
    "color_map9657 = {}\n",
    "for x in H9657.nodes():\n",
    "    try:\n",
    "        chr_num = H9657.node[x.lstrip('B')]['chr']\n",
    "        color_map9657[x] = sum(chr_lengths[0:chr_num-1]) + (chr_num-1)*600000 + H9657.node[x.lstrip('B')]['aln_end']\n",
    "        \n",
    "    except:\n",
    "        color_map9657[x] = 5"
   ]
  },
  {
   "cell_type": "code",
   "execution_count": 208,
   "metadata": {
    "collapsed": false
   },
   "outputs": [
    {
     "data": {
      "image/png": "[encoded data removed]",
      "text/plain": [
       "<matplotlib.figure.Figure at 0x7f7297e70790>"
      ]
     },
     "metadata": {},
     "output_type": "display_data"
    }
   ],
   "source": [
    "color_max = max(color_map9657.values())\n",
    "values9657 = [color_max - color_map9657.get(node, 1) for node in G9657.nodes()]\n",
    "nx.draw_networkx(G9657, l9657, with_labels=False, node_color=values9657,cmap = 'hsv',vmin = 0,vmax = color_max, node_size=8,linewidths=0.1) \n",
    "plt.show()"
   ]
  },
  {
   "cell_type": "markdown",
   "metadata": {},
   "source": [
    "# Draw NCTC9964"
   ]
  },
  {
   "cell_type": "code",
   "execution_count": 22,
   "metadata": {
    "collapsed": false
   },
   "outputs": [],
   "source": [
    "H9964 = nx.read_graphml('data/NCTC9964/NCTC9964A.G2c.graphml')\n",
    "G9964 = H9964.to_undirected()\n",
    "pos = { i : (random.random(), random.random()) for i in G9964.nodes()} \n",
    "l9964 = forceatlas2.forceatlas2_networkx_layout(G9964, pos, niter=10000) "
   ]
  },
  {
   "cell_type": "code",
   "execution_count": 177,
   "metadata": {
    "collapsed": false
   },
   "outputs": [],
   "source": [
    "max_chr = 1\n",
    "for x in H9964.nodes():\n",
    "    try:\n",
    "        max_chr = max(max_chr,H9964.node[x.lstrip('B')]['chr'])\n",
    "    except:\n",
    "        pass\n",
    "chr_lengths = [0]*max_chr\n",
    "for x in H9964.nodes():\n",
    "        try:\n",
    "            chr_num = H9964.node[x.lstrip('B')]['chr']\n",
    "            chr_lengths[chr_num-1] = max(chr_lengths[chr_num-1],H9964.node[x.lstrip('B')]['aln_end'])\n",
    "        except:\n",
    "            pass\n",
    "\n",
    "color_map9964 = {}\n",
    "for x in H9964.nodes():\n",
    "    try:\n",
    "        chr_num = H9964.node[x.lstrip('B')]['chr']\n",
    "        color_map9964[x] = sum(chr_lengths[0:chr_num-1]) + (chr_num-1)*600000 + H9964.node[x.lstrip('B')]['aln_end']\n",
    "        \n",
    "    except:\n",
    "        color_map9964[x] = 5 "
   ]
  },
  {
   "cell_type": "code",
   "execution_count": 178,
   "metadata": {
    "collapsed": false
   },
   "outputs": [
    {
     "data": {
      "image/png": "[encoded data removed]",
      "text/plain": [
       "<matplotlib.figure.Figure at 0x7f7297b11650>"
      ]
     },
     "metadata": {},
     "output_type": "display_data"
    }
   ],
   "source": [
    "color_max = max(color_map9964.values())\n",
    "values9964 = [color_max - color_map9964.get(node, 1) for node in G9964.nodes()]\n",
    "nx.draw_networkx(G9964, l9964, with_labels=False, node_color=values9964,cmap = 'hsv',vmin = 0,vmax = color_max, node_size=8,linewidths=0.1) \n",
    "plt.show()"
   ]
  },
  {
   "cell_type": "markdown",
   "metadata": {},
   "source": [
    "# Draw NCTC11022"
   ]
  },
  {
   "cell_type": "code",
   "execution_count": 161,
   "metadata": {
    "collapsed": true
   },
   "outputs": [],
   "source": [
    "H11022 = nx.read_graphml('data/NCTC11022/NCTC11022A.G2c.graphml')\n",
    "G11022 = H11022.to_undirected()\n",
    "pos = { i : (random.random(), random.random()) for i in G11022.nodes()} \n",
    "l11022 = forceatlas2.forceatlas2_networkx_layout(G11022, pos, niter=10000) "
   ]
  },
  {
   "cell_type": "code",
   "execution_count": 199,
   "metadata": {
    "collapsed": false
   },
   "outputs": [],
   "source": [
    "# We use the alignment information to the hgap contigs to color the nodes\n",
    "\n",
    "max_chr = 1\n",
    "for x in H11022.nodes():\n",
    "    try:\n",
    "        max_chr = max(max_chr,H11022.node[x.lstrip('B')]['chr'])\n",
    "    except:\n",
    "        pass\n",
    "chr_lengths = [0]*max_chr\n",
    "for x in H11022.nodes():\n",
    "        try:\n",
    "            chr_num = H11022.node[x.lstrip('B')]['chr']\n",
    "            chr_lengths[chr_num-1] = max(chr_lengths[chr_num-1],H11022.node[x.lstrip('B')]['aln_end'])\n",
    "        except:\n",
    "            pass\n",
    "\n",
    "color_map11022 = {}\n",
    "for x in H11022.nodes():\n",
    "    try:\n",
    "        chr_num = H11022.node[x.lstrip('B')]['chr']\n",
    "        color_map11022[x] = sum(chr_lengths[0:chr_num-1]) + (chr_num-1)*600000 + H11022.node[x.lstrip('B')]['aln_end']\n",
    "        \n",
    "    except:\n",
    "        color_map11022[x] = 5 "
   ]
  },
  {
   "cell_type": "code",
   "execution_count": 200,
   "metadata": {
    "collapsed": false
   },
   "outputs": [
    {
     "data": {
      "image/png": "[encoded data removed]",
      "text/plain": [
       "<matplotlib.figure.Figure at 0x7f7203201290>"
      ]
     },
     "metadata": {},
     "output_type": "display_data"
    }
   ],
   "source": [
    "color_max = max(color_map11022.values())\n",
    "values11022 = [color_max - color_map11022.get(node, 1) for node in G11022.nodes()]\n",
    "nx.draw_networkx(G11022, l11022, with_labels=False, node_color=values11022,cmap = 'hsv',vmin = 0,vmax = color_max, node_size=8,linewidths=0.1) \n",
    "plt.show()"
   ]
  }
 ],
 "metadata": {
  "celltoolbar": "Raw Cell Format",
  "kernelspec": {
   "display_name": "Python 2",
   "language": "python",
   "name": "python2"
  },
  "language_info": {
   "codemirror_mode": {
    "name": "ipython",
    "version": 2
   },
   "file_extension": ".py",
   "mimetype": "text/x-python",
   "name": "python",
   "nbconvert_exporter": "python",
   "pygments_lexer": "ipython2",
   "version": "2.7.6"
  }
 },
 "nbformat": 4,
 "nbformat_minor": 0
}
