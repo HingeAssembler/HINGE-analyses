{
 "cells": [
  {
   "cell_type": "markdown",
   "metadata": {
    "collapsed": true
   },
   "source": [
    "# Set relevant variables"
   ]
  },
  {
   "cell_type": "code",
   "execution_count": 1,
   "metadata": {
    "collapsed": false
   },
   "outputs": [],
   "source": [
    "path_to_aspera_licence = '/data/pacbio_assembly/pb_data/asperaweb_id_dsa.openssh'\n",
    "path_to_hinge = '~/AwesomeAssembler/'"
   ]
  },
  {
   "cell_type": "markdown",
   "metadata": {},
   "source": [
    "# Import libraries"
   ]
  },
  {
   "cell_type": "code",
   "execution_count": 2,
   "metadata": {
    "collapsed": false
   },
   "outputs": [],
   "source": [
    "import os\n",
    "import networkx as nx\n",
    "import numpy as np\n",
    "import matplotlib.pyplot as plt \n",
    "import random \n",
    "import forceatlas2 "
   ]
  },
  {
   "cell_type": "code",
   "execution_count": 5,
   "metadata": {
    "collapsed": false
   },
   "outputs": [
    {
     "data": {
      "text/plain": [
       "0"
      ]
     },
     "execution_count": 5,
     "metadata": {},
     "output_type": "execute_result"
    }
   ],
   "source": [
    "os.system('mkdir -p data')"
   ]
  },
  {
   "cell_type": "markdown",
   "metadata": {
    "collapsed": false
   },
   "source": [
    "# Download the relevant files\n",
    "\n",
    "We use [aspera](http://www.asperasoft.com/downloads/connect) to download. Other ways to download the relevant files from the accession numbers in the paper can be found [here](https://www.ebi.ac.uk/ena/browse/read-download)."
   ]
  },
  {
   "cell_type": "code",
   "execution_count": 3,
   "metadata": {
    "collapsed": false
   },
   "outputs": [],
   "source": [
    "download_cmd = 'python download_wrapper.py '+ path_to_aspera_licence\n",
    "os.system(download_cmd)"
   ]
  },
  {
   "cell_type": "markdown",
   "metadata": {},
   "source": [
    "# Obtain the overlaps"
   ]
  },
  {
   "cell_type": "code",
   "execution_count": 7,
   "metadata": {
    "collapsed": true
   },
   "outputs": [],
   "source": [
    "overlap_cmd = 'python overlap_wrapper.py'\n",
    "os.system(overlap_cmd)"
   ]
  },
  {
   "cell_type": "markdown",
   "metadata": {},
   "source": [
    "# Download NCTC assemblies and extract fastas"
   ]
  },
  {
   "cell_type": "code",
   "execution_count": 8,
   "metadata": {
    "collapsed": true
   },
   "outputs": [],
   "source": [
    "assembly_download_cmd = 'python download_assemblies.py'\n",
    "assembly_extract_cmd = 'python get_hgap_fastas.py'\n",
    "os.system(assembly_download_cmd)\n",
    "os.system(assembly_extract_cmd)"
   ]
  },
  {
   "cell_type": "code",
   "execution_count": 13,
   "metadata": {
    "collapsed": false
   },
   "outputs": [],
   "source": [
    "map_cmd = 'python map_wrapper.py '+path_to_hinge\n",
    "os.system(map_cmd)"
   ]
  },
  {
   "cell_type": "markdown",
   "metadata": {},
   "source": [
    "# Run Layout and overlay NCTC assembly colours"
   ]
  },
  {
   "cell_type": "code",
   "execution_count": 14,
   "metadata": {
    "collapsed": true
   },
   "outputs": [],
   "source": [
    "layout_cmd = 'python pipeline_layout_wrapper.py '+path_to_hinge\n",
    "os.system(layout_cmd)"
   ]
  },
  {
   "cell_type": "markdown",
   "metadata": {},
   "source": [
    "# Draw NCTC9657"
   ]
  },
  {
   "cell_type": "code",
   "execution_count": 25,
   "metadata": {
    "collapsed": false
   },
   "outputs": [],
   "source": [
    "H9657 = nx.read_graphml('data/NCTC9657/NCTC9657A.G2c.graphml')\n",
    "G9657 = H9657.to_undirected()\n",
    "pos = { i : (random.random(), random.random()) for i in G9657.nodes()} \n",
    "l9657 = forceatlas2.forceatlas2_networkx_layout(G9657, pos, niter=10000) "
   ]
  },
  {
   "cell_type": "markdown",
   "metadata": {},
   "source": [
    "%matplotlib inline\n",
    "\n",
    "color_map9657 = {}\n",
    "for x in G9657.nodes():\n",
    "    \n",
    "    try:\n",
    "        color_map9657[x] = H9657.node[x.lstrip('B')]['chr']*50\n",
    "    except:\n",
    "        color_map9657[x] = 11.3\n",
    "values9657 = [color_map9657.get(node, 0.25) for node in G9657.nodes()]\n",
    "nx.draw_networkx(G9657, l9657, with_labels=False, node_color=values9657, node_size=8,linewidths=0.1) \n",
    "plt.show()"
   ]
  },
  {
   "cell_type": "markdown",
   "metadata": {},
   "source": [
    "# Draw NCTC9964"
   ]
  },
  {
   "cell_type": "code",
   "execution_count": 30,
   "metadata": {
    "collapsed": true
   },
   "outputs": [],
   "source": [
    "H9964 = nx.read_graphml('data/NCTC9964/NCTC9964A.G2c.graphml')\n",
    "G9964 = H9964.to_undirected()\n",
    "pos = { i : (random.random(), random.random()) for i in G9964.nodes()} \n",
    "l9964 = forceatlas2.forceatlas2_networkx_layout(G9964, pos, niter=10000) "
   ]
  },
  {
   "cell_type": "code",
   "execution_count": 32,
   "metadata": {
    "collapsed": false
   },
   "outputs": [
    {
     "data": {
      "image/png": "[encoded data removed]",
      "text/plain": [
       "<matplotlib.figure.Figure at 0x7f5172b82090>"
      ]
     },
     "metadata": {},
     "output_type": "display_data"
    }
   ],
   "source": [
    "color_map9964 = {}\n",
    "for x in G9964.nodes():\n",
    "    \n",
    "    try:\n",
    "        color_map9964[x] = H9964.node[x.lstrip('B')]['chr']*50\n",
    "    except:\n",
    "        color_map9964[x] = 11.3\n",
    "values9964 = [color_map9964.get(node, 0.25) for node in G9964.nodes()]\n",
    "nx.draw_networkx(G9964, l9964, with_labels=False, node_color=values9964, node_size=8,linewidths=0.1) \n",
    "plt.show()"
   ]
  },
  {
   "cell_type": "markdown",
   "metadata": {},
   "source": [
    "# Draw NCTC11022"
   ]
  },
  {
   "cell_type": "code",
   "execution_count": 33,
   "metadata": {
    "collapsed": true
   },
   "outputs": [],
   "source": [
    "H11022 = nx.read_graphml('data/NCTC11022/NCTC11022A.G2c.graphml')\n",
    "G11022 = H11022.to_undirected()\n",
    "pos = { i : (random.random(), random.random()) for i in G11022.nodes()} \n",
    "l11022 = forceatlas2.forceatlas2_networkx_layout(G11022, pos, niter=10000) "
   ]
  },
  {
   "cell_type": "code",
   "execution_count": 34,
   "metadata": {
    "collapsed": false
   },
   "outputs": [
    {
     "data": {
      "image/png": "[encoded data removed]",
      "text/plain": [
       "<matplotlib.figure.Figure at 0x7f5172b82090>"
      ]
     },
     "metadata": {},
     "output_type": "display_data"
    }
   ],
   "source": [
    "color_map11022 = {}\n",
    "for x in G11022.nodes():\n",
    "    \n",
    "    try:\n",
    "        color_map11022[x] = H11022.node[x.lstrip('B')]['chr']*50\n",
    "    except:\n",
    "        color_map11022[x] = 11.3\n",
    "values11022 = [color_map11022.get(node, 0.25) for node in G11022.nodes()]\n",
    "nx.draw_networkx(G11022, l11022, with_labels=False, node_color=values11022, node_size=8,linewidths=0.1) \n",
    "plt.show()"
   ]
  }
 ],
 "metadata": {
  "kernelspec": {
   "display_name": "Python 2",
   "language": "python",
   "name": "python2"
  },
  "language_info": {
   "codemirror_mode": {
    "name": "ipython",
    "version": 2
   },
   "file_extension": ".py",
   "mimetype": "text/x-python",
   "name": "python",
   "nbconvert_exporter": "python",
   "pygments_lexer": "ipython2",
   "version": "2.7.11"
  }
 },
 "nbformat": 4,
 "nbformat_minor": 0
}
