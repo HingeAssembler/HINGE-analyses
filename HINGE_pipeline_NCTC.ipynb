{
 "cells": [
  {
   "cell_type": "code",
   "execution_count": null,
   "metadata": {
    "collapsed": true
   },
   "outputs": [],
   "source": [
    "# Install HINGE\n",
    "\n",
    "# Also need to install pbcore (other dependencies?)"
   ]
  },
  {
   "cell_type": "code",
   "execution_count": null,
   "metadata": {
    "collapsed": true
   },
   "outputs": [],
   "source": [
    "# Download data for NCTC9657"
   ]
  },
  {
   "cell_type": "code",
   "execution_count": 26,
   "metadata": {
    "collapsed": false
   },
   "outputs": [
    {
     "name": "stdout",
     "output_type": "stream",
     "text": [
      "/Users/ilanshom/Documents/AwesomeAssembler\n"
     ]
    }
   ],
   "source": [
    "cd /Users/ilanshom/Documents/AwesomeAssembler/"
   ]
  },
  {
   "cell_type": "code",
   "execution_count": 29,
   "metadata": {
    "collapsed": false
   },
   "outputs": [],
   "source": [
    "!source utils/setup.sh"
   ]
  },
  {
   "cell_type": "code",
   "execution_count": 31,
   "metadata": {
    "collapsed": false
   },
   "outputs": [
    {
     "name": "stdout",
     "output_type": "stream",
     "text": [
      "/Users/ilanshom/Documents/HINGE-analyses/NCTC9657\n"
     ]
    }
   ],
   "source": [
    "cd /Users/ilanshom/Documents/HINGE-analyses/NCTC9657/"
   ]
  },
  {
   "cell_type": "code",
   "execution_count": 33,
   "metadata": {
    "collapsed": false
   },
   "outputs": [
    {
     "name": "stdout",
     "output_type": "stream",
     "text": [
      "alignment.sh: line 2: correct_head.py: command not found\r\n",
      "alignment.sh: line 4: fasta2DB: command not found\r\n",
      "alignment.sh: line 6: DBsplit: command not found\r\n",
      "alignment.sh: line 8: HPCdaligner: command not found\r\n",
      "rm: NCTC9657.*.NCTC9657.*.las: No such file or directory\r\n",
      "alignment.sh: line 12: LAmerge: command not found\r\n",
      "alignment.sh: line 14: DASqv: command not found\r\n"
     ]
    }
   ],
   "source": [
    "!bash alignment.sh NCTC9657"
   ]
  },
  {
   "cell_type": "code",
   "execution_count": null,
   "metadata": {
    "collapsed": true
   },
   "outputs": [],
   "source": []
  }
 ],
 "metadata": {
  "kernelspec": {
   "display_name": "Python 2",
   "language": "python",
   "name": "python2"
  },
  "language_info": {
   "codemirror_mode": {
    "name": "ipython",
    "version": 2
   },
   "file_extension": ".py",
   "mimetype": "text/x-python",
   "name": "python",
   "nbconvert_exporter": "python",
   "pygments_lexer": "ipython2",
   "version": "2.7.11"
  }
 },
 "nbformat": 4,
 "nbformat_minor": 0
}
